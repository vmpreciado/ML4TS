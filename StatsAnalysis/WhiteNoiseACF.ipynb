import numpy as np
import matplotlib.pyplot as plt
from scipy import stats

# Set random seed for reproducibility
np.random.seed(42)

# Parameters
K = 1000

# Generate white noise process
white_noise = np.random.normal(0, 1, K)

# Create figure with two subplots
fig, (ax1, ax2) = plt.subplots(1, 2, figsize=(10, 3.5))

# Left subplot: Sample path
ax1.plot(white_noise)
ax1.set_title('White Noise Process')
ax1.set_xlabel('Time Step')
ax1.set_ylabel('Value')

# Right subplot: Autocorrelation Function (ACF)
# Include lag 0 with correlation 1
acf = np.concatenate(([1], [np.corrcoef(white_noise[:-k], white_noise[k:])[0,1] for k in range(1, 21)]))
confidence_interval = 1.96 / np.sqrt(K)

ax2.stem(range(0, 21), acf)
ax2.axhline(y=0, color='r', linestyle='--')
ax2.axhline(y=confidence_interval, color='gray', linestyle='--')
ax2.axhline(y=-confidence_interval, color='gray', linestyle='--')
ax2.set_title('Autocorrelation Function')
ax2.set_xlabel('Lag')
ax2.set_ylabel('Correlation')
ax2.set_xticks(range(0, 21))

plt.tight_layout()
plt.show()
